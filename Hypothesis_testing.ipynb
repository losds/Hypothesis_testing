{
 "cells": [
  {
   "cell_type": "markdown",
   "id": "otherwise-stand",
   "metadata": {},
   "source": [
    "# Tasca del test d'hipòtesis"
   ]
  },
  {
   "cell_type": "markdown",
   "id": "removed-weather",
   "metadata": {},
   "source": [
    "# Nivell 1\n",
    "### Exercici 1\n",
    "\n",
    "Agafa un conjunt de dades de tema esportiu que t'agradi i selecciona un atribut del conjunt de dades. Calcula el p-valor i digues si rebutja la hipòtesi nul·la agafant un alfa de 5%. "
   ]
  },
  {
   "cell_type": "code",
   "execution_count": 84,
   "id": "chinese-reggae",
   "metadata": {},
   "outputs": [],
   "source": [
    "import pandas as pd\n",
    "from scipy.stats import normaltest\n",
    "from scipy.stats import ttest_1samp\n",
    "import statistics\n",
    "from statsmodels.formula.api import ols\n",
    "import statsmodels.api as sm"
   ]
  },
  {
   "cell_type": "code",
   "execution_count": 3,
   "id": "religious-lesson",
   "metadata": {},
   "outputs": [],
   "source": [
    "df=pd.read_csv('MLB.txt',sep='\\t')"
   ]
  },
  {
   "cell_type": "code",
   "execution_count": 9,
   "id": "taken-stake",
   "metadata": {},
   "outputs": [
    {
     "data": {
      "text/html": [
       "<div>\n",
       "<style scoped>\n",
       "    .dataframe tbody tr th:only-of-type {\n",
       "        vertical-align: middle;\n",
       "    }\n",
       "\n",
       "    .dataframe tbody tr th {\n",
       "        vertical-align: top;\n",
       "    }\n",
       "\n",
       "    .dataframe thead th {\n",
       "        text-align: right;\n",
       "    }\n",
       "</style>\n",
       "<table border=\"1\" class=\"dataframe\">\n",
       "  <thead>\n",
       "    <tr style=\"text-align: right;\">\n",
       "      <th></th>\n",
       "      <th>player</th>\n",
       "      <th>team</th>\n",
       "      <th>position</th>\n",
       "      <th>salary</th>\n",
       "    </tr>\n",
       "  </thead>\n",
       "  <tbody>\n",
       "    <tr>\n",
       "      <th>0</th>\n",
       "      <td>Brandon Webb</td>\n",
       "      <td>Arizona Diamondbacks</td>\n",
       "      <td>Pitcher</td>\n",
       "      <td>8500.0</td>\n",
       "    </tr>\n",
       "    <tr>\n",
       "      <th>1</th>\n",
       "      <td>Danny Haren</td>\n",
       "      <td>Arizona Diamondbacks</td>\n",
       "      <td>Pitcher</td>\n",
       "      <td>8250.0</td>\n",
       "    </tr>\n",
       "    <tr>\n",
       "      <th>2</th>\n",
       "      <td>Chris Snyder</td>\n",
       "      <td>Arizona Diamondbacks</td>\n",
       "      <td>Catcher</td>\n",
       "      <td>5250.0</td>\n",
       "    </tr>\n",
       "    <tr>\n",
       "      <th>3</th>\n",
       "      <td>Edwin Jackson</td>\n",
       "      <td>Arizona Diamondbacks</td>\n",
       "      <td>Pitcher</td>\n",
       "      <td>4600.0</td>\n",
       "    </tr>\n",
       "    <tr>\n",
       "      <th>4</th>\n",
       "      <td>Adam LaRoche</td>\n",
       "      <td>Arizona Diamondbacks</td>\n",
       "      <td>First Baseman</td>\n",
       "      <td>4500.0</td>\n",
       "    </tr>\n",
       "  </tbody>\n",
       "</table>\n",
       "</div>"
      ],
      "text/plain": [
       "          player                  team       position  salary\n",
       "0   Brandon Webb  Arizona Diamondbacks        Pitcher  8500.0\n",
       "1    Danny Haren  Arizona Diamondbacks        Pitcher  8250.0\n",
       "2   Chris Snyder  Arizona Diamondbacks        Catcher  5250.0\n",
       "3  Edwin Jackson  Arizona Diamondbacks        Pitcher  4600.0\n",
       "4   Adam LaRoche  Arizona Diamondbacks  First Baseman  4500.0"
      ]
     },
     "execution_count": 9,
     "metadata": {},
     "output_type": "execute_result"
    }
   ],
   "source": [
    "#visualizo 5 primeras lineas del fichero\n",
    "df.head()"
   ]
  },
  {
   "cell_type": "code",
   "execution_count": 10,
   "id": "weighted-usage",
   "metadata": {},
   "outputs": [
    {
     "name": "stdout",
     "output_type": "stream",
     "text": [
      "<class 'pandas.core.frame.DataFrame'>\n",
      "RangeIndex: 828 entries, 0 to 827\n",
      "Data columns (total 4 columns):\n",
      " #   Column    Non-Null Count  Dtype  \n",
      "---  ------    --------------  -----  \n",
      " 0   player    828 non-null    object \n",
      " 1   team      828 non-null    object \n",
      " 2   position  828 non-null    object \n",
      " 3   salary    828 non-null    float64\n",
      "dtypes: float64(1), object(3)\n",
      "memory usage: 26.0+ KB\n"
     ]
    }
   ],
   "source": [
    "#Resumen confiso del DataFrame\n",
    "df.info()"
   ]
  },
  {
   "cell_type": "code",
   "execution_count": 14,
   "id": "absent-membership",
   "metadata": {},
   "outputs": [
    {
     "data": {
      "text/html": [
       "<div>\n",
       "<style scoped>\n",
       "    .dataframe tbody tr th:only-of-type {\n",
       "        vertical-align: middle;\n",
       "    }\n",
       "\n",
       "    .dataframe tbody tr th {\n",
       "        vertical-align: top;\n",
       "    }\n",
       "\n",
       "    .dataframe thead th {\n",
       "        text-align: right;\n",
       "    }\n",
       "</style>\n",
       "<table border=\"1\" class=\"dataframe\">\n",
       "  <thead>\n",
       "    <tr style=\"text-align: right;\">\n",
       "      <th></th>\n",
       "      <th>salary</th>\n",
       "    </tr>\n",
       "  </thead>\n",
       "  <tbody>\n",
       "    <tr>\n",
       "      <th>count</th>\n",
       "      <td>828.000000</td>\n",
       "    </tr>\n",
       "    <tr>\n",
       "      <th>mean</th>\n",
       "      <td>3281.828339</td>\n",
       "    </tr>\n",
       "    <tr>\n",
       "      <th>std</th>\n",
       "      <td>4465.448980</td>\n",
       "    </tr>\n",
       "    <tr>\n",
       "      <th>min</th>\n",
       "      <td>400.000000</td>\n",
       "    </tr>\n",
       "    <tr>\n",
       "      <th>25%</th>\n",
       "      <td>418.315000</td>\n",
       "    </tr>\n",
       "    <tr>\n",
       "      <th>50%</th>\n",
       "      <td>1093.750000</td>\n",
       "    </tr>\n",
       "    <tr>\n",
       "      <th>75%</th>\n",
       "      <td>4250.000000</td>\n",
       "    </tr>\n",
       "    <tr>\n",
       "      <th>max</th>\n",
       "      <td>33000.000000</td>\n",
       "    </tr>\n",
       "  </tbody>\n",
       "</table>\n",
       "</div>"
      ],
      "text/plain": [
       "             salary\n",
       "count    828.000000\n",
       "mean    3281.828339\n",
       "std     4465.448980\n",
       "min      400.000000\n",
       "25%      418.315000\n",
       "50%     1093.750000\n",
       "75%     4250.000000\n",
       "max    33000.000000"
      ]
     },
     "execution_count": 14,
     "metadata": {},
     "output_type": "execute_result"
    }
   ],
   "source": [
    "#Obtengo los datos de la estadistica descriptiva\n",
    "df.describe()"
   ]
  },
  {
   "cell_type": "code",
   "execution_count": 26,
   "id": "opposed-elder",
   "metadata": {},
   "outputs": [
    {
     "data": {
      "text/html": [
       "<div>\n",
       "<style scoped>\n",
       "    .dataframe tbody tr th:only-of-type {\n",
       "        vertical-align: middle;\n",
       "    }\n",
       "\n",
       "    .dataframe tbody tr th {\n",
       "        vertical-align: top;\n",
       "    }\n",
       "\n",
       "    .dataframe thead th {\n",
       "        text-align: right;\n",
       "    }\n",
       "</style>\n",
       "<table border=\"1\" class=\"dataframe\">\n",
       "  <thead>\n",
       "    <tr style=\"text-align: right;\">\n",
       "      <th></th>\n",
       "      <th>player</th>\n",
       "      <th>team</th>\n",
       "      <th>position</th>\n",
       "      <th>salary</th>\n",
       "    </tr>\n",
       "  </thead>\n",
       "  <tbody>\n",
       "    <tr>\n",
       "      <th>count</th>\n",
       "      <td>828</td>\n",
       "      <td>828</td>\n",
       "      <td>828</td>\n",
       "      <td>828.000000</td>\n",
       "    </tr>\n",
       "    <tr>\n",
       "      <th>unique</th>\n",
       "      <td>828</td>\n",
       "      <td>30</td>\n",
       "      <td>9</td>\n",
       "      <td>NaN</td>\n",
       "    </tr>\n",
       "    <tr>\n",
       "      <th>top</th>\n",
       "      <td>Rusty Ryal</td>\n",
       "      <td>Oakland Athletics</td>\n",
       "      <td>Pitcher</td>\n",
       "      <td>NaN</td>\n",
       "    </tr>\n",
       "    <tr>\n",
       "      <th>freq</th>\n",
       "      <td>1</td>\n",
       "      <td>31</td>\n",
       "      <td>410</td>\n",
       "      <td>NaN</td>\n",
       "    </tr>\n",
       "    <tr>\n",
       "      <th>mean</th>\n",
       "      <td>NaN</td>\n",
       "      <td>NaN</td>\n",
       "      <td>NaN</td>\n",
       "      <td>3281.828339</td>\n",
       "    </tr>\n",
       "    <tr>\n",
       "      <th>std</th>\n",
       "      <td>NaN</td>\n",
       "      <td>NaN</td>\n",
       "      <td>NaN</td>\n",
       "      <td>4465.448980</td>\n",
       "    </tr>\n",
       "    <tr>\n",
       "      <th>min</th>\n",
       "      <td>NaN</td>\n",
       "      <td>NaN</td>\n",
       "      <td>NaN</td>\n",
       "      <td>400.000000</td>\n",
       "    </tr>\n",
       "    <tr>\n",
       "      <th>25%</th>\n",
       "      <td>NaN</td>\n",
       "      <td>NaN</td>\n",
       "      <td>NaN</td>\n",
       "      <td>418.315000</td>\n",
       "    </tr>\n",
       "    <tr>\n",
       "      <th>50%</th>\n",
       "      <td>NaN</td>\n",
       "      <td>NaN</td>\n",
       "      <td>NaN</td>\n",
       "      <td>1093.750000</td>\n",
       "    </tr>\n",
       "    <tr>\n",
       "      <th>75%</th>\n",
       "      <td>NaN</td>\n",
       "      <td>NaN</td>\n",
       "      <td>NaN</td>\n",
       "      <td>4250.000000</td>\n",
       "    </tr>\n",
       "    <tr>\n",
       "      <th>max</th>\n",
       "      <td>NaN</td>\n",
       "      <td>NaN</td>\n",
       "      <td>NaN</td>\n",
       "      <td>33000.000000</td>\n",
       "    </tr>\n",
       "  </tbody>\n",
       "</table>\n",
       "</div>"
      ],
      "text/plain": [
       "            player               team position        salary\n",
       "count          828                828      828    828.000000\n",
       "unique         828                 30        9           NaN\n",
       "top     Rusty Ryal  Oakland Athletics  Pitcher           NaN\n",
       "freq             1                 31      410           NaN\n",
       "mean           NaN                NaN      NaN   3281.828339\n",
       "std            NaN                NaN      NaN   4465.448980\n",
       "min            NaN                NaN      NaN    400.000000\n",
       "25%            NaN                NaN      NaN    418.315000\n",
       "50%            NaN                NaN      NaN   1093.750000\n",
       "75%            NaN                NaN      NaN   4250.000000\n",
       "max            NaN                NaN      NaN  33000.000000"
      ]
     },
     "execution_count": 26,
     "metadata": {},
     "output_type": "execute_result"
    }
   ],
   "source": [
    "df.describe(include='all')"
   ]
  },
  {
   "cell_type": "code",
   "execution_count": 8,
   "id": "transparent-playing",
   "metadata": {},
   "outputs": [
    {
     "data": {
      "text/plain": [
       "(828, 4)"
      ]
     },
     "execution_count": 8,
     "metadata": {},
     "output_type": "execute_result"
    }
   ],
   "source": [
    "df.shape"
   ]
  },
  {
   "cell_type": "code",
   "execution_count": 16,
   "id": "spatial-element",
   "metadata": {},
   "outputs": [
    {
     "data": {
      "text/plain": [
       "player      0\n",
       "team        0\n",
       "position    0\n",
       "salary      0\n",
       "dtype: int64"
      ]
     },
     "execution_count": 16,
     "metadata": {},
     "output_type": "execute_result"
    }
   ],
   "source": [
    "df.isnull().sum()"
   ]
  },
  {
   "cell_type": "markdown",
   "id": "dietary-minneapolis",
   "metadata": {},
   "source": []
  },
  {
   "cell_type": "code",
   "execution_count": 56,
   "id": "prepared-revolution",
   "metadata": {},
   "outputs": [
    {
     "data": {
      "image/png": "[encoded data removed]",
      "text/plain": [
       "<Figure size 432x288 with 1 Axes>"
      ]
     },
     "metadata": {
      "needs_background": "light"
     },
     "output_type": "display_data"
    }
   ],
   "source": [
    "hist = df.hist(bins=15)"
   ]
  },
  {
   "cell_type": "markdown",
   "id": "spanish-father",
   "metadata": {},
   "source": [
    "Como se puede observar en la grafica el salario no sigue la distribucion normal"
   ]
  },
  {
   "cell_type": "markdown",
   "id": "precise-maximum",
   "metadata": {},
   "source": [
    "* H0 La variable salary sigue la distribucion normal y los datos son independientes\n",
    "* H1 La variable no sigue la distribucion normal los dados son depentientes hay alguna relacion entre ellos"
   ]
  },
  {
   "cell_type": "code",
   "execution_count": 28,
   "id": "foster-guyana",
   "metadata": {},
   "outputs": [],
   "source": [
    "alfa=0.05"
   ]
  },
  {
   "cell_type": "code",
   "execution_count": 36,
   "id": "modular-fifth",
   "metadata": {},
   "outputs": [
    {
     "name": "stdout",
     "output_type": "stream",
     "text": [
      "stat=379.781, p=0.000\n",
      "Probabilidad no es Gaussiana\n"
     ]
    }
   ],
   "source": [
    "stat,p=normaltest(df.salary)\n",
    "print('stat=%.3f, p=%.3f' % (stat, p))\n",
    "if p > 0.05:\n",
    "    print('Probabilidad es Gaussiana')\n",
    "else:\n",
    "    print('Probabilidad no es Gaussiana')\n"
   ]
  },
  {
   "cell_type": "markdown",
   "id": "affecting-foundation",
   "metadata": {},
   "source": [
    "P valor es 0, los datos son dependientes y se rechaza la hipótesis nula H0\n",
    "El resultado confirma lo que se ha observado en el histograma, la distribucion no es Gaussiana"
   ]
  },
  {
   "cell_type": "code",
   "execution_count": null,
   "id": "dated-amazon",
   "metadata": {},
   "outputs": [],
   "source": []
  },
  {
   "cell_type": "code",
   "execution_count": null,
   "id": "respiratory-belize",
   "metadata": {},
   "outputs": [],
   "source": []
  },
  {
   "cell_type": "markdown",
   "id": "persistent-filing",
   "metadata": {},
   "source": [
    "\n",
    "* H0 Salario medio del jugador 3281.82\n",
    "* H1 Salario medio del jugador no es 3281.82\n",
    "\n",
    "Usare el critero de T-student para comprobar la hipótesis"
   ]
  },
  {
   "cell_type": "code",
   "execution_count": 66,
   "id": "outside-character",
   "metadata": {},
   "outputs": [
    {
     "name": "stdout",
     "output_type": "stream",
     "text": [
      "Salario medio del jugador 3281.8283393719807\n",
      "p-values 0.9999571360531264\n",
      "Acepto la H0 hipótesis nula\n"
     ]
    }
   ],
   "source": [
    "print(\"Salario medio del jugador\", statistics.mean(df.salary))\n",
    "tset, pval = ttest_1samp(df.salary, 3281.82)\n",
    "print(\"p-values\",pval)\n",
    "if pval < 0.05:    # alpha value is 0.05 or 5%\n",
    "   print(\" No acepto hipótesis nula\")\n",
    "else:\n",
    "  print(\"Acepto la H0 hipótesis nula\")"
   ]
  },
  {
   "cell_type": "code",
   "execution_count": null,
   "id": "happy-buying",
   "metadata": {},
   "outputs": [],
   "source": []
  },
  {
   "cell_type": "markdown",
   "id": "standard-weather",
   "metadata": {},
   "source": []
  },
  {
   "cell_type": "markdown",
   "id": "anonymous-blackberry",
   "metadata": {},
   "source": [
    "# Nivell 2\n",
    "### Exercici 2\n",
    "\n",
    "Continua amb el conjunt de dades de tema esportiu que t'agradi i selecciona dos altres atributs del conjunt de dades. Calcula els p-valors i digues si rebutgen la hipòtesi nul·la agafant un alfa de 5%."
   ]
  },
  {
   "cell_type": "markdown",
   "id": "lesbian-blowing",
   "metadata": {},
   "source": [
    "Test de anova del salario agrupando por posicion\n",
    "\n",
    "* H0 Los salarios medios por posiciones son iguales\n",
    "* H1 Los salarios medios por posiciones no son iguales"
   ]
  },
  {
   "cell_type": "code",
   "execution_count": 54,
   "id": "saving-expense",
   "metadata": {},
   "outputs": [
    {
     "data": {
      "text/plain": [
       "<AxesSubplot:title={'center':'salary'}, xlabel='position'>"
      ]
     },
     "execution_count": 54,
     "metadata": {},
     "output_type": "execute_result"
    },
    {
     "data": {
      "image/png": "[encoded data removed]",
      "text/plain": [
       "<Figure size 1440x720 with 1 Axes>"
      ]
     },
     "metadata": {
      "needs_background": "light"
     },
     "output_type": "display_data"
    }
   ],
   "source": [
    "df.boxplot('salary', by='position', figsize=(20, 10))"
   ]
  },
  {
   "cell_type": "code",
   "execution_count": 67,
   "id": "certified-friend",
   "metadata": {
    "scrolled": true
   },
   "outputs": [
    {
     "data": {
      "text/html": [
       "<div>\n",
       "<style scoped>\n",
       "    .dataframe tbody tr th:only-of-type {\n",
       "        vertical-align: middle;\n",
       "    }\n",
       "\n",
       "    .dataframe tbody tr th {\n",
       "        vertical-align: top;\n",
       "    }\n",
       "\n",
       "    .dataframe thead th {\n",
       "        text-align: right;\n",
       "    }\n",
       "</style>\n",
       "<table border=\"1\" class=\"dataframe\">\n",
       "  <thead>\n",
       "    <tr style=\"text-align: right;\">\n",
       "      <th></th>\n",
       "      <th>player</th>\n",
       "      <th>team</th>\n",
       "      <th>position</th>\n",
       "      <th>salary</th>\n",
       "    </tr>\n",
       "  </thead>\n",
       "  <tbody>\n",
       "    <tr>\n",
       "      <th>0</th>\n",
       "      <td>Brandon Webb</td>\n",
       "      <td>Arizona Diamondbacks</td>\n",
       "      <td>Pitcher</td>\n",
       "      <td>8500.0</td>\n",
       "    </tr>\n",
       "    <tr>\n",
       "      <th>1</th>\n",
       "      <td>Danny Haren</td>\n",
       "      <td>Arizona Diamondbacks</td>\n",
       "      <td>Pitcher</td>\n",
       "      <td>8250.0</td>\n",
       "    </tr>\n",
       "    <tr>\n",
       "      <th>2</th>\n",
       "      <td>Chris Snyder</td>\n",
       "      <td>Arizona Diamondbacks</td>\n",
       "      <td>Catcher</td>\n",
       "      <td>5250.0</td>\n",
       "    </tr>\n",
       "    <tr>\n",
       "      <th>3</th>\n",
       "      <td>Edwin Jackson</td>\n",
       "      <td>Arizona Diamondbacks</td>\n",
       "      <td>Pitcher</td>\n",
       "      <td>4600.0</td>\n",
       "    </tr>\n",
       "    <tr>\n",
       "      <th>4</th>\n",
       "      <td>Adam LaRoche</td>\n",
       "      <td>Arizona Diamondbacks</td>\n",
       "      <td>First Baseman</td>\n",
       "      <td>4500.0</td>\n",
       "    </tr>\n",
       "  </tbody>\n",
       "</table>\n",
       "</div>"
      ],
      "text/plain": [
       "          player                  team       position  salary\n",
       "0   Brandon Webb  Arizona Diamondbacks        Pitcher  8500.0\n",
       "1    Danny Haren  Arizona Diamondbacks        Pitcher  8250.0\n",
       "2   Chris Snyder  Arizona Diamondbacks        Catcher  5250.0\n",
       "3  Edwin Jackson  Arizona Diamondbacks        Pitcher  4600.0\n",
       "4   Adam LaRoche  Arizona Diamondbacks  First Baseman  4500.0"
      ]
     },
     "execution_count": 67,
     "metadata": {},
     "output_type": "execute_result"
    }
   ],
   "source": [
    "df.head()"
   ]
  },
  {
   "cell_type": "code",
   "execution_count": null,
   "id": "divine-privilege",
   "metadata": {
    "scrolled": true
   },
   "outputs": [],
   "source": []
  },
  {
   "cell_type": "code",
   "execution_count": 82,
   "id": "suspected-appendix",
   "metadata": {},
   "outputs": [],
   "source": [
    "model = ols('salary ~ position', data = df).fit()\n"
   ]
  },
  {
   "cell_type": "code",
   "execution_count": 85,
   "id": "unlimited-feedback",
   "metadata": {},
   "outputs": [
    {
     "data": {
      "text/html": [
       "<div>\n",
       "<style scoped>\n",
       "    .dataframe tbody tr th:only-of-type {\n",
       "        vertical-align: middle;\n",
       "    }\n",
       "\n",
       "    .dataframe tbody tr th {\n",
       "        vertical-align: top;\n",
       "    }\n",
       "\n",
       "    .dataframe thead th {\n",
       "        text-align: right;\n",
       "    }\n",
       "</style>\n",
       "<table border=\"1\" class=\"dataframe\">\n",
       "  <thead>\n",
       "    <tr style=\"text-align: right;\">\n",
       "      <th></th>\n",
       "      <th>sum_sq</th>\n",
       "      <th>df</th>\n",
       "      <th>F</th>\n",
       "      <th>PR(&gt;F)</th>\n",
       "    </tr>\n",
       "  </thead>\n",
       "  <tbody>\n",
       "    <tr>\n",
       "      <th>position</th>\n",
       "      <td>6.097532e+08</td>\n",
       "      <td>8.0</td>\n",
       "      <td>3.930746</td>\n",
       "      <td>0.000142</td>\n",
       "    </tr>\n",
       "    <tr>\n",
       "      <th>Residual</th>\n",
       "      <td>1.588082e+10</td>\n",
       "      <td>819.0</td>\n",
       "      <td>NaN</td>\n",
       "      <td>NaN</td>\n",
       "    </tr>\n",
       "  </tbody>\n",
       "</table>\n",
       "</div>"
      ],
      "text/plain": [
       "                sum_sq     df         F    PR(>F)\n",
       "position  6.097532e+08    8.0  3.930746  0.000142\n",
       "Residual  1.588082e+10  819.0       NaN       NaN"
      ]
     },
     "execution_count": 85,
     "metadata": {},
     "output_type": "execute_result"
    }
   ],
   "source": [
    "anova_table = sm.stats.anova_lm(model, typ=2)\n",
    "anova_table"
   ]
  },
  {
   "cell_type": "markdown",
   "id": "fluid-independence",
   "metadata": {},
   "source": [
    "El p-valor es casi 0, esto implica descartar la hipótesis nula H0. También  se puede ver en la grafica de boxplot los datos que confirman que la H0 no es cierta. Por ejemplo los pitcher o outfilder"
   ]
  },
  {
   "cell_type": "markdown",
   "id": "retired-dream",
   "metadata": {},
   "source": [
    "\n",
    "# Nivell 3\n",
    "### Exercici 3\n",
    "\n",
    "Continua amb el conjunt de dades de tema esportiu que t'agradi i selecciona tres atributs del conjunt de dades. Calcula el p-valor i digues si rebutja la hipòtesi nul·la agafant un alfa de 5%."
   ]
  },
  {
   "cell_type": "markdown",
   "id": "loaded-cancer",
   "metadata": {},
   "source": [
    "Test de anova del salario de la posicion 'Pitcher' agrupando por equipo\n",
    "* H0 Los salarios medios por posiciones son iguales\n",
    "* H1 Los salarios medios por posiciones no son iguales"
   ]
  },
  {
   "cell_type": "code",
   "execution_count": 110,
   "id": "instrumental-insured",
   "metadata": {},
   "outputs": [
    {
     "data": {
      "text/html": [
       "<div>\n",
       "<style scoped>\n",
       "    .dataframe tbody tr th:only-of-type {\n",
       "        vertical-align: middle;\n",
       "    }\n",
       "\n",
       "    .dataframe tbody tr th {\n",
       "        vertical-align: top;\n",
       "    }\n",
       "\n",
       "    .dataframe thead th {\n",
       "        text-align: right;\n",
       "    }\n",
       "</style>\n",
       "<table border=\"1\" class=\"dataframe\">\n",
       "  <thead>\n",
       "    <tr style=\"text-align: right;\">\n",
       "      <th></th>\n",
       "      <th>salary</th>\n",
       "    </tr>\n",
       "    <tr>\n",
       "      <th>position</th>\n",
       "      <th></th>\n",
       "    </tr>\n",
       "  </thead>\n",
       "  <tbody>\n",
       "    <tr>\n",
       "      <th>Catcher</th>\n",
       "      <td>129793.766</td>\n",
       "    </tr>\n",
       "    <tr>\n",
       "      <th>Designated Hitter</th>\n",
       "      <td>36650.000</td>\n",
       "    </tr>\n",
       "    <tr>\n",
       "      <th>First Baseman</th>\n",
       "      <td>244713.873</td>\n",
       "    </tr>\n",
       "    <tr>\n",
       "      <th>Infielder</th>\n",
       "      <td>3082.300</td>\n",
       "    </tr>\n",
       "    <tr>\n",
       "      <th>Outfielder</th>\n",
       "      <td>555581.079</td>\n",
       "    </tr>\n",
       "    <tr>\n",
       "      <th>Pitcher</th>\n",
       "      <td>1229670.831</td>\n",
       "    </tr>\n",
       "    <tr>\n",
       "      <th>Second Baseman</th>\n",
       "      <td>145090.691</td>\n",
       "    </tr>\n",
       "    <tr>\n",
       "      <th>Shortstop</th>\n",
       "      <td>159272.186</td>\n",
       "    </tr>\n",
       "    <tr>\n",
       "      <th>Third Baseman</th>\n",
       "      <td>213499.139</td>\n",
       "    </tr>\n",
       "  </tbody>\n",
       "</table>\n",
       "</div>"
      ],
      "text/plain": [
       "                        salary\n",
       "position                      \n",
       "Catcher             129793.766\n",
       "Designated Hitter    36650.000\n",
       "First Baseman       244713.873\n",
       "Infielder             3082.300\n",
       "Outfielder          555581.079\n",
       "Pitcher            1229670.831\n",
       "Second Baseman      145090.691\n",
       "Shortstop           159272.186\n",
       "Third Baseman       213499.139"
      ]
     },
     "execution_count": 110,
     "metadata": {},
     "output_type": "execute_result"
    }
   ],
   "source": [
    "df.groupby('position').sum()"
   ]
  },
  {
   "cell_type": "code",
   "execution_count": 104,
   "id": "protected-binary",
   "metadata": {
    "scrolled": true
   },
   "outputs": [
    {
     "data": {
      "text/html": [
       "<div>\n",
       "<style scoped>\n",
       "    .dataframe tbody tr th:only-of-type {\n",
       "        vertical-align: middle;\n",
       "    }\n",
       "\n",
       "    .dataframe tbody tr th {\n",
       "        vertical-align: top;\n",
       "    }\n",
       "\n",
       "    .dataframe thead th {\n",
       "        text-align: right;\n",
       "    }\n",
       "</style>\n",
       "<table border=\"1\" class=\"dataframe\">\n",
       "  <thead>\n",
       "    <tr style=\"text-align: right;\">\n",
       "      <th></th>\n",
       "      <th>salary</th>\n",
       "    </tr>\n",
       "  </thead>\n",
       "  <tbody>\n",
       "    <tr>\n",
       "      <th>count</th>\n",
       "      <td>215.000000</td>\n",
       "    </tr>\n",
       "    <tr>\n",
       "      <th>mean</th>\n",
       "      <td>12638.855186</td>\n",
       "    </tr>\n",
       "    <tr>\n",
       "      <th>std</th>\n",
       "      <td>15314.514642</td>\n",
       "    </tr>\n",
       "    <tr>\n",
       "      <th>min</th>\n",
       "      <td>400.000000</td>\n",
       "    </tr>\n",
       "    <tr>\n",
       "      <th>25%</th>\n",
       "      <td>2396.588500</td>\n",
       "    </tr>\n",
       "    <tr>\n",
       "      <th>50%</th>\n",
       "      <td>6535.300000</td>\n",
       "    </tr>\n",
       "    <tr>\n",
       "      <th>75%</th>\n",
       "      <td>15504.607000</td>\n",
       "    </tr>\n",
       "    <tr>\n",
       "      <th>max</th>\n",
       "      <td>86882.989000</td>\n",
       "    </tr>\n",
       "  </tbody>\n",
       "</table>\n",
       "</div>"
      ],
      "text/plain": [
       "             salary\n",
       "count    215.000000\n",
       "mean   12638.855186\n",
       "std    15314.514642\n",
       "min      400.000000\n",
       "25%     2396.588500\n",
       "50%     6535.300000\n",
       "75%    15504.607000\n",
       "max    86882.989000"
      ]
     },
     "execution_count": 104,
     "metadata": {},
     "output_type": "execute_result"
    }
   ],
   "source": [
    "res=df.groupby(['position','team']).sum()\n",
    "res.describe()"
   ]
  },
  {
   "cell_type": "code",
   "execution_count": 133,
   "id": "employed-poultry",
   "metadata": {
    "scrolled": true
   },
   "outputs": [
    {
     "data": {
      "text/html": [
       "<div>\n",
       "<style scoped>\n",
       "    .dataframe tbody tr th:only-of-type {\n",
       "        vertical-align: middle;\n",
       "    }\n",
       "\n",
       "    .dataframe tbody tr th {\n",
       "        vertical-align: top;\n",
       "    }\n",
       "\n",
       "    .dataframe thead th {\n",
       "        text-align: right;\n",
       "    }\n",
       "</style>\n",
       "<table border=\"1\" class=\"dataframe\">\n",
       "  <thead>\n",
       "    <tr style=\"text-align: right;\">\n",
       "      <th></th>\n",
       "      <th>salary</th>\n",
       "    </tr>\n",
       "    <tr>\n",
       "      <th>team</th>\n",
       "      <th></th>\n",
       "    </tr>\n",
       "  </thead>\n",
       "  <tbody>\n",
       "    <tr>\n",
       "      <th>Arizona Diamondbacks</th>\n",
       "      <td>60718.166</td>\n",
       "    </tr>\n",
       "    <tr>\n",
       "      <th>Atlanta Braves</th>\n",
       "      <td>84423.666</td>\n",
       "    </tr>\n",
       "    <tr>\n",
       "      <th>Baltimore Orioles</th>\n",
       "      <td>81612.500</td>\n",
       "    </tr>\n",
       "    <tr>\n",
       "      <th>Boston Red Sox</th>\n",
       "      <td>162447.333</td>\n",
       "    </tr>\n",
       "    <tr>\n",
       "      <th>Chicago Cubs</th>\n",
       "      <td>146609.000</td>\n",
       "    </tr>\n",
       "    <tr>\n",
       "      <th>Chicago White Sox</th>\n",
       "      <td>105530.000</td>\n",
       "    </tr>\n",
       "    <tr>\n",
       "      <th>Cincinnati Reds</th>\n",
       "      <td>71761.542</td>\n",
       "    </tr>\n",
       "    <tr>\n",
       "      <th>Cleveland Indians</th>\n",
       "      <td>61203.966</td>\n",
       "    </tr>\n",
       "    <tr>\n",
       "      <th>Colorado Rockies</th>\n",
       "      <td>83821.000</td>\n",
       "    </tr>\n",
       "    <tr>\n",
       "      <th>Detroit Tigers</th>\n",
       "      <td>122864.928</td>\n",
       "    </tr>\n",
       "    <tr>\n",
       "      <th>Florida Marlins</th>\n",
       "      <td>57029.719</td>\n",
       "    </tr>\n",
       "    <tr>\n",
       "      <th>Houston Astros</th>\n",
       "      <td>92355.500</td>\n",
       "    </tr>\n",
       "    <tr>\n",
       "      <th>Kansas City Royals</th>\n",
       "      <td>71405.210</td>\n",
       "    </tr>\n",
       "    <tr>\n",
       "      <th>Los Angeles Angeles</th>\n",
       "      <td>104963.866</td>\n",
       "    </tr>\n",
       "    <tr>\n",
       "      <th>Los Angeles Dodgers</th>\n",
       "      <td>95358.016</td>\n",
       "    </tr>\n",
       "    <tr>\n",
       "      <th>Milwaukee Brewers</th>\n",
       "      <td>81108.278</td>\n",
       "    </tr>\n",
       "    <tr>\n",
       "      <th>Minnesota Twins</th>\n",
       "      <td>97559.166</td>\n",
       "    </tr>\n",
       "    <tr>\n",
       "      <th>New York Mets</th>\n",
       "      <td>134422.942</td>\n",
       "    </tr>\n",
       "    <tr>\n",
       "      <th>New York Yankees</th>\n",
       "      <td>206333.389</td>\n",
       "    </tr>\n",
       "    <tr>\n",
       "      <th>Oakland Athletics</th>\n",
       "      <td>51654.900</td>\n",
       "    </tr>\n",
       "    <tr>\n",
       "      <th>Philadelphia Phillies</th>\n",
       "      <td>141928.379</td>\n",
       "    </tr>\n",
       "    <tr>\n",
       "      <th>Pittsburgh Pirates</th>\n",
       "      <td>34943.000</td>\n",
       "    </tr>\n",
       "    <tr>\n",
       "      <th>San Diego Padres</th>\n",
       "      <td>37799.300</td>\n",
       "    </tr>\n",
       "    <tr>\n",
       "      <th>San Francisco Giants</th>\n",
       "      <td>98641.333</td>\n",
       "    </tr>\n",
       "    <tr>\n",
       "      <th>Seattle Mariners</th>\n",
       "      <td>86510.000</td>\n",
       "    </tr>\n",
       "    <tr>\n",
       "      <th>St. Louis Cardinals</th>\n",
       "      <td>93540.751</td>\n",
       "    </tr>\n",
       "    <tr>\n",
       "      <th>Tampa Bay Rays</th>\n",
       "      <td>71923.471</td>\n",
       "    </tr>\n",
       "    <tr>\n",
       "      <th>Texas Rangers</th>\n",
       "      <td>55250.544</td>\n",
       "    </tr>\n",
       "    <tr>\n",
       "      <th>Toronto Blue Jays</th>\n",
       "      <td>62234.000</td>\n",
       "    </tr>\n",
       "    <tr>\n",
       "      <th>Washington Nationals</th>\n",
       "      <td>61400.000</td>\n",
       "    </tr>\n",
       "  </tbody>\n",
       "</table>\n",
       "</div>"
      ],
      "text/plain": [
       "                           salary\n",
       "team                             \n",
       "Arizona Diamondbacks    60718.166\n",
       "Atlanta Braves          84423.666\n",
       "Baltimore Orioles       81612.500\n",
       "Boston Red Sox         162447.333\n",
       "Chicago Cubs           146609.000\n",
       "Chicago White Sox      105530.000\n",
       "Cincinnati Reds         71761.542\n",
       "Cleveland Indians       61203.966\n",
       "Colorado Rockies        83821.000\n",
       "Detroit Tigers         122864.928\n",
       "Florida Marlins         57029.719\n",
       "Houston Astros          92355.500\n",
       "Kansas City Royals      71405.210\n",
       "Los Angeles Angeles    104963.866\n",
       "Los Angeles Dodgers     95358.016\n",
       "Milwaukee Brewers       81108.278\n",
       "Minnesota Twins         97559.166\n",
       "New York Mets          134422.942\n",
       "New York Yankees       206333.389\n",
       "Oakland Athletics       51654.900\n",
       "Philadelphia Phillies  141928.379\n",
       "Pittsburgh Pirates      34943.000\n",
       "San Diego Padres        37799.300\n",
       "San Francisco Giants    98641.333\n",
       "Seattle Mariners        86510.000\n",
       "St. Louis Cardinals     93540.751\n",
       "Tampa Bay Rays          71923.471\n",
       "Texas Rangers           55250.544\n",
       "Toronto Blue Jays       62234.000\n",
       "Washington Nationals    61400.000"
      ]
     },
     "execution_count": 133,
     "metadata": {},
     "output_type": "execute_result"
    }
   ],
   "source": [
    "df.groupby('team').sum()"
   ]
  },
  {
   "cell_type": "code",
   "execution_count": null,
   "id": "resident-knight",
   "metadata": {},
   "outputs": [],
   "source": []
  },
  {
   "cell_type": "code",
   "execution_count": null,
   "id": "excessive-bosnia",
   "metadata": {},
   "outputs": [],
   "source": []
  },
  {
   "cell_type": "code",
   "execution_count": 142,
   "id": "intermediate-queen",
   "metadata": {},
   "outputs": [],
   "source": [
    "Pitcher = df[df['position'] == 'Pitcher']\n"
   ]
  },
  {
   "cell_type": "code",
   "execution_count": 143,
   "id": "impossible-venture",
   "metadata": {},
   "outputs": [
    {
     "data": {
      "text/html": [
       "<div>\n",
       "<style scoped>\n",
       "    .dataframe tbody tr th:only-of-type {\n",
       "        vertical-align: middle;\n",
       "    }\n",
       "\n",
       "    .dataframe tbody tr th {\n",
       "        vertical-align: top;\n",
       "    }\n",
       "\n",
       "    .dataframe thead th {\n",
       "        text-align: right;\n",
       "    }\n",
       "</style>\n",
       "<table border=\"1\" class=\"dataframe\">\n",
       "  <thead>\n",
       "    <tr style=\"text-align: right;\">\n",
       "      <th></th>\n",
       "      <th>player</th>\n",
       "      <th>team</th>\n",
       "      <th>position</th>\n",
       "      <th>salary</th>\n",
       "    </tr>\n",
       "  </thead>\n",
       "  <tbody>\n",
       "    <tr>\n",
       "      <th>0</th>\n",
       "      <td>Brandon Webb</td>\n",
       "      <td>Arizona Diamondbacks</td>\n",
       "      <td>Pitcher</td>\n",
       "      <td>8500.0</td>\n",
       "    </tr>\n",
       "    <tr>\n",
       "      <th>1</th>\n",
       "      <td>Danny Haren</td>\n",
       "      <td>Arizona Diamondbacks</td>\n",
       "      <td>Pitcher</td>\n",
       "      <td>8250.0</td>\n",
       "    </tr>\n",
       "    <tr>\n",
       "      <th>3</th>\n",
       "      <td>Edwin Jackson</td>\n",
       "      <td>Arizona Diamondbacks</td>\n",
       "      <td>Pitcher</td>\n",
       "      <td>4600.0</td>\n",
       "    </tr>\n",
       "    <tr>\n",
       "      <th>5</th>\n",
       "      <td>Chad Qualls</td>\n",
       "      <td>Arizona Diamondbacks</td>\n",
       "      <td>Pitcher</td>\n",
       "      <td>4185.0</td>\n",
       "    </tr>\n",
       "    <tr>\n",
       "      <th>10</th>\n",
       "      <td>Aaron Heilman</td>\n",
       "      <td>Arizona Diamondbacks</td>\n",
       "      <td>Pitcher</td>\n",
       "      <td>2150.0</td>\n",
       "    </tr>\n",
       "  </tbody>\n",
       "</table>\n",
       "</div>"
      ],
      "text/plain": [
       "           player                  team position  salary\n",
       "0    Brandon Webb  Arizona Diamondbacks  Pitcher  8500.0\n",
       "1     Danny Haren  Arizona Diamondbacks  Pitcher  8250.0\n",
       "3   Edwin Jackson  Arizona Diamondbacks  Pitcher  4600.0\n",
       "5     Chad Qualls  Arizona Diamondbacks  Pitcher  4185.0\n",
       "10  Aaron Heilman  Arizona Diamondbacks  Pitcher  2150.0"
      ]
     },
     "execution_count": 143,
     "metadata": {},
     "output_type": "execute_result"
    }
   ],
   "source": [
    "Pitcher.head()"
   ]
  },
  {
   "cell_type": "code",
   "execution_count": 144,
   "id": "forty-bruce",
   "metadata": {},
   "outputs": [
    {
     "data": {
      "text/plain": [
       "(410, 4)"
      ]
     },
     "execution_count": 144,
     "metadata": {},
     "output_type": "execute_result"
    }
   ],
   "source": [
    "Pitcher.shape"
   ]
  },
  {
   "cell_type": "code",
   "execution_count": 145,
   "id": "fantastic-labor",
   "metadata": {},
   "outputs": [
    {
     "data": {
      "text/html": [
       "<div>\n",
       "<style scoped>\n",
       "    .dataframe tbody tr th:only-of-type {\n",
       "        vertical-align: middle;\n",
       "    }\n",
       "\n",
       "    .dataframe tbody tr th {\n",
       "        vertical-align: top;\n",
       "    }\n",
       "\n",
       "    .dataframe thead th {\n",
       "        text-align: right;\n",
       "    }\n",
       "</style>\n",
       "<table border=\"1\" class=\"dataframe\">\n",
       "  <thead>\n",
       "    <tr style=\"text-align: right;\">\n",
       "      <th></th>\n",
       "      <th>salary</th>\n",
       "    </tr>\n",
       "  </thead>\n",
       "  <tbody>\n",
       "    <tr>\n",
       "      <th>count</th>\n",
       "      <td>410.000000</td>\n",
       "    </tr>\n",
       "    <tr>\n",
       "      <th>mean</th>\n",
       "      <td>2999.197149</td>\n",
       "    </tr>\n",
       "    <tr>\n",
       "      <th>std</th>\n",
       "      <td>4102.627814</td>\n",
       "    </tr>\n",
       "    <tr>\n",
       "      <th>min</th>\n",
       "      <td>400.000000</td>\n",
       "    </tr>\n",
       "    <tr>\n",
       "      <th>25%</th>\n",
       "      <td>415.625000</td>\n",
       "    </tr>\n",
       "    <tr>\n",
       "      <th>50%</th>\n",
       "      <td>1000.000000</td>\n",
       "    </tr>\n",
       "    <tr>\n",
       "      <th>75%</th>\n",
       "      <td>3768.750000</td>\n",
       "    </tr>\n",
       "    <tr>\n",
       "      <th>max</th>\n",
       "      <td>24285.714000</td>\n",
       "    </tr>\n",
       "  </tbody>\n",
       "</table>\n",
       "</div>"
      ],
      "text/plain": [
       "             salary\n",
       "count    410.000000\n",
       "mean    2999.197149\n",
       "std     4102.627814\n",
       "min      400.000000\n",
       "25%      415.625000\n",
       "50%     1000.000000\n",
       "75%     3768.750000\n",
       "max    24285.714000"
      ]
     },
     "execution_count": 145,
     "metadata": {},
     "output_type": "execute_result"
    }
   ],
   "source": [
    "Pitcher.describe()"
   ]
  },
  {
   "cell_type": "code",
   "execution_count": 146,
   "id": "creative-cuisine",
   "metadata": {},
   "outputs": [
    {
     "data": {
      "text/html": [
       "<div>\n",
       "<style scoped>\n",
       "    .dataframe tbody tr th:only-of-type {\n",
       "        vertical-align: middle;\n",
       "    }\n",
       "\n",
       "    .dataframe tbody tr th {\n",
       "        vertical-align: top;\n",
       "    }\n",
       "\n",
       "    .dataframe thead th {\n",
       "        text-align: right;\n",
       "    }\n",
       "</style>\n",
       "<table border=\"1\" class=\"dataframe\">\n",
       "  <thead>\n",
       "    <tr style=\"text-align: right;\">\n",
       "      <th></th>\n",
       "      <th>sum_sq</th>\n",
       "      <th>df</th>\n",
       "      <th>F</th>\n",
       "      <th>PR(&gt;F)</th>\n",
       "    </tr>\n",
       "  </thead>\n",
       "  <tbody>\n",
       "    <tr>\n",
       "      <th>team</th>\n",
       "      <td>7.338338e+08</td>\n",
       "      <td>29.0</td>\n",
       "      <td>1.563468</td>\n",
       "      <td>0.034136</td>\n",
       "    </tr>\n",
       "    <tr>\n",
       "      <th>Residual</th>\n",
       "      <td>6.150272e+09</td>\n",
       "      <td>380.0</td>\n",
       "      <td>NaN</td>\n",
       "      <td>NaN</td>\n",
       "    </tr>\n",
       "  </tbody>\n",
       "</table>\n",
       "</div>"
      ],
      "text/plain": [
       "                sum_sq     df         F    PR(>F)\n",
       "team      7.338338e+08   29.0  1.563468  0.034136\n",
       "Residual  6.150272e+09  380.0       NaN       NaN"
      ]
     },
     "execution_count": 146,
     "metadata": {},
     "output_type": "execute_result"
    }
   ],
   "source": [
    "mod = ols('salary ~ team', data = Pitcher).fit()\n",
    "anova = sm.stats.anova_lm(mod, typ=2)\n",
    "anova"
   ]
  },
  {
   "cell_type": "markdown",
   "id": "going-prior",
   "metadata": {},
   "source": [
    "Valor de p-value es 0.0341 < que alpha 0.05 esto implica la descartar la hipótesis H0 nula\n"
   ]
  },
  {
   "cell_type": "code",
   "execution_count": 165,
   "id": "comfortable-villa",
   "metadata": {},
   "outputs": [
    {
     "data": {
      "text/plain": [
       "<AxesSubplot:title={'center':'salary'}, xlabel='team'>"
      ]
     },
     "execution_count": 165,
     "metadata": {},
     "output_type": "execute_result"
    },
    {
     "data": {
      "image/png": "[encoded data removed]",
      "text/plain": [
       "<Figure size 720x360 with 1 Axes>"
      ]
     },
     "metadata": {
      "needs_background": "light"
     },
     "output_type": "display_data"
    }
   ],
   "source": [
    "#boxplot de salario de Pitcher por equipo\n",
    "Pitcher.boxplot('salary', by='team', figsize=(10, 5), rot=90)"
   ]
  },
  {
   "cell_type": "markdown",
   "id": "acquired-particular",
   "metadata": {},
   "source": [
    "El grafico boxplot confirma el rechazo de la hipótesis Ho. Por ejemplo mirando los equipos de Arizona Diamondbacks y Chicago White Sox"
   ]
  },
  {
   "cell_type": "code",
   "execution_count": null,
   "id": "corporate-kazakhstan",
   "metadata": {},
   "outputs": [],
   "source": []
  }
 ],
 "metadata": {
  "kernelspec": {
   "display_name": "Python 3",
   "language": "python",
   "name": "python3"
  },
  "language_info": {
   "codemirror_mode": {
    "name": "ipython",
    "version": 3
   },
   "file_extension": ".py",
   "mimetype": "text/x-python",
   "name": "python",
   "nbconvert_exporter": "python",
   "pygments_lexer": "ipython3",
   "version": "3.8.5"
  }
 },
 "nbformat": 4,
 "nbformat_minor": 5
}
